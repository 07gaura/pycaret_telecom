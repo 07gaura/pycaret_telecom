{
 "cells": [
  {
   "cell_type": "code",
   "execution_count": 1,
   "id": "5d7a35dc",
   "metadata": {},
   "outputs": [
    {
     "name": "stderr",
     "output_type": "stream",
     "text": [
      "<ipython-input-1-bcb97af57e2e>:18: FutureWarning: Passing a negative integer is deprecated in version 1.0 and will not be supported in future version. Instead, use None to not limit the column width.\n",
      "  pd.set_option('display.max_colwidth', -1) # make sure data and columns are displayed correctly withput purge\n"
     ]
    }
   ],
   "source": [
    "import pandas as pd\n",
    "import numpy as np\n",
    "import warnings\n",
    "\n",
    "from scipy import special \n",
    "import matplotlib.pyplot as plt\n",
    "import matplotlib.animation as animation\n",
    "import seaborn as sns\n",
    "import math\n",
    "from IPython.display import Markdown, display ,HTML\n",
    "\n",
    "\n",
    "from sklearn.model_selection import train_test_split\n",
    "\n",
    "\n",
    "sns.set(style=\"whitegrid\")\n",
    "pd.set_option('display.max_columns', 100)\n",
    "pd.set_option('display.max_colwidth', -1) # make sure data and columns are displayed correctly withput purge\n",
    "pd.options.display.float_format = '{:20,.2f}'.format # display float value with correct precision \n",
    "\n",
    "\n",
    "warnings.filterwarnings('ignore')\n"
   ]
  },
  {
   "cell_type": "code",
   "execution_count": 2,
   "id": "6a5ef428",
   "metadata": {},
   "outputs": [
    {
     "data": {
      "text/html": [
       "<div>\n",
       "<style scoped>\n",
       "    .dataframe tbody tr th:only-of-type {\n",
       "        vertical-align: middle;\n",
       "    }\n",
       "\n",
       "    .dataframe tbody tr th {\n",
       "        vertical-align: top;\n",
       "    }\n",
       "\n",
       "    .dataframe thead th {\n",
       "        text-align: right;\n",
       "    }\n",
       "</style>\n",
       "<table border=\"1\" class=\"dataframe\">\n",
       "  <thead>\n",
       "    <tr style=\"text-align: right;\">\n",
       "      <th></th>\n",
       "      <th>mobile_number</th>\n",
       "      <th>circle_id</th>\n",
       "      <th>loc_og_t2o_mou</th>\n",
       "      <th>std_og_t2o_mou</th>\n",
       "      <th>loc_ic_t2o_mou</th>\n",
       "      <th>last_date_of_month_6</th>\n",
       "      <th>last_date_of_month_7</th>\n",
       "      <th>last_date_of_month_8</th>\n",
       "      <th>last_date_of_month_9</th>\n",
       "      <th>arpu_6</th>\n",
       "      <th>arpu_7</th>\n",
       "      <th>arpu_8</th>\n",
       "      <th>arpu_9</th>\n",
       "      <th>onnet_mou_6</th>\n",
       "      <th>onnet_mou_7</th>\n",
       "      <th>onnet_mou_8</th>\n",
       "      <th>onnet_mou_9</th>\n",
       "      <th>offnet_mou_6</th>\n",
       "      <th>offnet_mou_7</th>\n",
       "      <th>offnet_mou_8</th>\n",
       "      <th>offnet_mou_9</th>\n",
       "      <th>roam_ic_mou_6</th>\n",
       "      <th>roam_ic_mou_7</th>\n",
       "      <th>roam_ic_mou_8</th>\n",
       "      <th>roam_ic_mou_9</th>\n",
       "      <th>roam_og_mou_6</th>\n",
       "      <th>roam_og_mou_7</th>\n",
       "      <th>roam_og_mou_8</th>\n",
       "      <th>roam_og_mou_9</th>\n",
       "      <th>loc_og_t2t_mou_6</th>\n",
       "      <th>loc_og_t2t_mou_7</th>\n",
       "      <th>loc_og_t2t_mou_8</th>\n",
       "      <th>loc_og_t2t_mou_9</th>\n",
       "      <th>loc_og_t2m_mou_6</th>\n",
       "      <th>loc_og_t2m_mou_7</th>\n",
       "      <th>loc_og_t2m_mou_8</th>\n",
       "      <th>loc_og_t2m_mou_9</th>\n",
       "      <th>loc_og_t2f_mou_6</th>\n",
       "      <th>loc_og_t2f_mou_7</th>\n",
       "      <th>loc_og_t2f_mou_8</th>\n",
       "      <th>loc_og_t2f_mou_9</th>\n",
       "      <th>loc_og_t2c_mou_6</th>\n",
       "      <th>loc_og_t2c_mou_7</th>\n",
       "      <th>loc_og_t2c_mou_8</th>\n",
       "      <th>loc_og_t2c_mou_9</th>\n",
       "      <th>loc_og_mou_6</th>\n",
       "      <th>loc_og_mou_7</th>\n",
       "      <th>loc_og_mou_8</th>\n",
       "      <th>loc_og_mou_9</th>\n",
       "      <th>std_og_t2t_mou_6</th>\n",
       "      <th>...</th>\n",
       "      <th>count_rech_3g_9</th>\n",
       "      <th>av_rech_amt_data_6</th>\n",
       "      <th>av_rech_amt_data_7</th>\n",
       "      <th>av_rech_amt_data_8</th>\n",
       "      <th>av_rech_amt_data_9</th>\n",
       "      <th>vol_2g_mb_6</th>\n",
       "      <th>vol_2g_mb_7</th>\n",
       "      <th>vol_2g_mb_8</th>\n",
       "      <th>vol_2g_mb_9</th>\n",
       "      <th>vol_3g_mb_6</th>\n",
       "      <th>vol_3g_mb_7</th>\n",
       "      <th>vol_3g_mb_8</th>\n",
       "      <th>vol_3g_mb_9</th>\n",
       "      <th>arpu_3g_6</th>\n",
       "      <th>arpu_3g_7</th>\n",
       "      <th>arpu_3g_8</th>\n",
       "      <th>arpu_3g_9</th>\n",
       "      <th>arpu_2g_6</th>\n",
       "      <th>arpu_2g_7</th>\n",
       "      <th>arpu_2g_8</th>\n",
       "      <th>arpu_2g_9</th>\n",
       "      <th>night_pck_user_6</th>\n",
       "      <th>night_pck_user_7</th>\n",
       "      <th>night_pck_user_8</th>\n",
       "      <th>night_pck_user_9</th>\n",
       "      <th>monthly_2g_6</th>\n",
       "      <th>monthly_2g_7</th>\n",
       "      <th>monthly_2g_8</th>\n",
       "      <th>monthly_2g_9</th>\n",
       "      <th>sachet_2g_6</th>\n",
       "      <th>sachet_2g_7</th>\n",
       "      <th>sachet_2g_8</th>\n",
       "      <th>sachet_2g_9</th>\n",
       "      <th>monthly_3g_6</th>\n",
       "      <th>monthly_3g_7</th>\n",
       "      <th>monthly_3g_8</th>\n",
       "      <th>monthly_3g_9</th>\n",
       "      <th>sachet_3g_6</th>\n",
       "      <th>sachet_3g_7</th>\n",
       "      <th>sachet_3g_8</th>\n",
       "      <th>sachet_3g_9</th>\n",
       "      <th>fb_user_6</th>\n",
       "      <th>fb_user_7</th>\n",
       "      <th>fb_user_8</th>\n",
       "      <th>fb_user_9</th>\n",
       "      <th>aon</th>\n",
       "      <th>aug_vbc_3g</th>\n",
       "      <th>jul_vbc_3g</th>\n",
       "      <th>jun_vbc_3g</th>\n",
       "      <th>sep_vbc_3g</th>\n",
       "    </tr>\n",
       "  </thead>\n",
       "  <tbody>\n",
       "    <tr>\n",
       "      <th>0</th>\n",
       "      <td>7000842753</td>\n",
       "      <td>109</td>\n",
       "      <td>0.00</td>\n",
       "      <td>0.00</td>\n",
       "      <td>0.00</td>\n",
       "      <td>6/30/2014</td>\n",
       "      <td>7/31/2014</td>\n",
       "      <td>8/31/2014</td>\n",
       "      <td>9/30/2014</td>\n",
       "      <td>197.38</td>\n",
       "      <td>214.82</td>\n",
       "      <td>213.80</td>\n",
       "      <td>21.10</td>\n",
       "      <td>NaN</td>\n",
       "      <td>NaN</td>\n",
       "      <td>0.00</td>\n",
       "      <td>NaN</td>\n",
       "      <td>NaN</td>\n",
       "      <td>NaN</td>\n",
       "      <td>0.00</td>\n",
       "      <td>NaN</td>\n",
       "      <td>NaN</td>\n",
       "      <td>NaN</td>\n",
       "      <td>0.00</td>\n",
       "      <td>NaN</td>\n",
       "      <td>NaN</td>\n",
       "      <td>NaN</td>\n",
       "      <td>0.00</td>\n",
       "      <td>NaN</td>\n",
       "      <td>NaN</td>\n",
       "      <td>NaN</td>\n",
       "      <td>0.00</td>\n",
       "      <td>NaN</td>\n",
       "      <td>NaN</td>\n",
       "      <td>NaN</td>\n",
       "      <td>0.00</td>\n",
       "      <td>NaN</td>\n",
       "      <td>NaN</td>\n",
       "      <td>NaN</td>\n",
       "      <td>0.00</td>\n",
       "      <td>NaN</td>\n",
       "      <td>NaN</td>\n",
       "      <td>NaN</td>\n",
       "      <td>0.00</td>\n",
       "      <td>NaN</td>\n",
       "      <td>NaN</td>\n",
       "      <td>NaN</td>\n",
       "      <td>0.00</td>\n",
       "      <td>NaN</td>\n",
       "      <td>NaN</td>\n",
       "      <td>...</td>\n",
       "      <td>NaN</td>\n",
       "      <td>252.00</td>\n",
       "      <td>252.00</td>\n",
       "      <td>252.00</td>\n",
       "      <td>NaN</td>\n",
       "      <td>30.13</td>\n",
       "      <td>1.32</td>\n",
       "      <td>5.75</td>\n",
       "      <td>0.00</td>\n",
       "      <td>83.57</td>\n",
       "      <td>150.76</td>\n",
       "      <td>109.61</td>\n",
       "      <td>0.00</td>\n",
       "      <td>212.17</td>\n",
       "      <td>212.17</td>\n",
       "      <td>212.17</td>\n",
       "      <td>NaN</td>\n",
       "      <td>212.17</td>\n",
       "      <td>212.17</td>\n",
       "      <td>212.17</td>\n",
       "      <td>NaN</td>\n",
       "      <td>0.00</td>\n",
       "      <td>0.00</td>\n",
       "      <td>0.00</td>\n",
       "      <td>NaN</td>\n",
       "      <td>0</td>\n",
       "      <td>0</td>\n",
       "      <td>0</td>\n",
       "      <td>0</td>\n",
       "      <td>0</td>\n",
       "      <td>0</td>\n",
       "      <td>0</td>\n",
       "      <td>0</td>\n",
       "      <td>1</td>\n",
       "      <td>1</td>\n",
       "      <td>1</td>\n",
       "      <td>0</td>\n",
       "      <td>0</td>\n",
       "      <td>0</td>\n",
       "      <td>0</td>\n",
       "      <td>0</td>\n",
       "      <td>1.00</td>\n",
       "      <td>1.00</td>\n",
       "      <td>1.00</td>\n",
       "      <td>NaN</td>\n",
       "      <td>968</td>\n",
       "      <td>30.40</td>\n",
       "      <td>0.00</td>\n",
       "      <td>101.20</td>\n",
       "      <td>3.58</td>\n",
       "    </tr>\n",
       "    <tr>\n",
       "      <th>1</th>\n",
       "      <td>7001865778</td>\n",
       "      <td>109</td>\n",
       "      <td>0.00</td>\n",
       "      <td>0.00</td>\n",
       "      <td>0.00</td>\n",
       "      <td>6/30/2014</td>\n",
       "      <td>7/31/2014</td>\n",
       "      <td>8/31/2014</td>\n",
       "      <td>9/30/2014</td>\n",
       "      <td>34.05</td>\n",
       "      <td>355.07</td>\n",
       "      <td>268.32</td>\n",
       "      <td>86.28</td>\n",
       "      <td>24.11</td>\n",
       "      <td>78.68</td>\n",
       "      <td>7.68</td>\n",
       "      <td>18.34</td>\n",
       "      <td>15.74</td>\n",
       "      <td>99.84</td>\n",
       "      <td>304.76</td>\n",
       "      <td>53.76</td>\n",
       "      <td>0.00</td>\n",
       "      <td>0.00</td>\n",
       "      <td>0.00</td>\n",
       "      <td>0.00</td>\n",
       "      <td>0.00</td>\n",
       "      <td>0.00</td>\n",
       "      <td>0.00</td>\n",
       "      <td>0.00</td>\n",
       "      <td>23.88</td>\n",
       "      <td>74.56</td>\n",
       "      <td>7.68</td>\n",
       "      <td>18.34</td>\n",
       "      <td>11.51</td>\n",
       "      <td>75.94</td>\n",
       "      <td>291.86</td>\n",
       "      <td>53.76</td>\n",
       "      <td>0.00</td>\n",
       "      <td>0.00</td>\n",
       "      <td>0.00</td>\n",
       "      <td>0.00</td>\n",
       "      <td>0.00</td>\n",
       "      <td>2.91</td>\n",
       "      <td>0.00</td>\n",
       "      <td>0.00</td>\n",
       "      <td>35.39</td>\n",
       "      <td>150.51</td>\n",
       "      <td>299.54</td>\n",
       "      <td>72.11</td>\n",
       "      <td>0.23</td>\n",
       "      <td>...</td>\n",
       "      <td>NaN</td>\n",
       "      <td>NaN</td>\n",
       "      <td>154.00</td>\n",
       "      <td>50.00</td>\n",
       "      <td>NaN</td>\n",
       "      <td>0.00</td>\n",
       "      <td>108.07</td>\n",
       "      <td>365.47</td>\n",
       "      <td>0.00</td>\n",
       "      <td>0.00</td>\n",
       "      <td>0.00</td>\n",
       "      <td>0.00</td>\n",
       "      <td>0.00</td>\n",
       "      <td>NaN</td>\n",
       "      <td>0.00</td>\n",
       "      <td>0.00</td>\n",
       "      <td>NaN</td>\n",
       "      <td>NaN</td>\n",
       "      <td>28.61</td>\n",
       "      <td>7.60</td>\n",
       "      <td>NaN</td>\n",
       "      <td>NaN</td>\n",
       "      <td>0.00</td>\n",
       "      <td>0.00</td>\n",
       "      <td>NaN</td>\n",
       "      <td>0</td>\n",
       "      <td>1</td>\n",
       "      <td>0</td>\n",
       "      <td>0</td>\n",
       "      <td>0</td>\n",
       "      <td>0</td>\n",
       "      <td>2</td>\n",
       "      <td>0</td>\n",
       "      <td>0</td>\n",
       "      <td>0</td>\n",
       "      <td>0</td>\n",
       "      <td>0</td>\n",
       "      <td>0</td>\n",
       "      <td>0</td>\n",
       "      <td>0</td>\n",
       "      <td>0</td>\n",
       "      <td>NaN</td>\n",
       "      <td>1.00</td>\n",
       "      <td>1.00</td>\n",
       "      <td>NaN</td>\n",
       "      <td>1006</td>\n",
       "      <td>0.00</td>\n",
       "      <td>0.00</td>\n",
       "      <td>0.00</td>\n",
       "      <td>0.00</td>\n",
       "    </tr>\n",
       "    <tr>\n",
       "      <th>2</th>\n",
       "      <td>7001625959</td>\n",
       "      <td>109</td>\n",
       "      <td>0.00</td>\n",
       "      <td>0.00</td>\n",
       "      <td>0.00</td>\n",
       "      <td>6/30/2014</td>\n",
       "      <td>7/31/2014</td>\n",
       "      <td>8/31/2014</td>\n",
       "      <td>9/30/2014</td>\n",
       "      <td>167.69</td>\n",
       "      <td>189.06</td>\n",
       "      <td>210.23</td>\n",
       "      <td>290.71</td>\n",
       "      <td>11.54</td>\n",
       "      <td>55.24</td>\n",
       "      <td>37.26</td>\n",
       "      <td>74.81</td>\n",
       "      <td>143.33</td>\n",
       "      <td>220.59</td>\n",
       "      <td>208.36</td>\n",
       "      <td>118.91</td>\n",
       "      <td>0.00</td>\n",
       "      <td>0.00</td>\n",
       "      <td>0.00</td>\n",
       "      <td>38.49</td>\n",
       "      <td>0.00</td>\n",
       "      <td>0.00</td>\n",
       "      <td>0.00</td>\n",
       "      <td>70.94</td>\n",
       "      <td>7.19</td>\n",
       "      <td>28.74</td>\n",
       "      <td>13.58</td>\n",
       "      <td>14.39</td>\n",
       "      <td>29.34</td>\n",
       "      <td>16.86</td>\n",
       "      <td>38.46</td>\n",
       "      <td>28.16</td>\n",
       "      <td>24.11</td>\n",
       "      <td>21.79</td>\n",
       "      <td>15.61</td>\n",
       "      <td>22.24</td>\n",
       "      <td>0.00</td>\n",
       "      <td>135.54</td>\n",
       "      <td>45.76</td>\n",
       "      <td>0.48</td>\n",
       "      <td>60.66</td>\n",
       "      <td>67.41</td>\n",
       "      <td>67.66</td>\n",
       "      <td>64.81</td>\n",
       "      <td>4.34</td>\n",
       "      <td>...</td>\n",
       "      <td>0.00</td>\n",
       "      <td>NaN</td>\n",
       "      <td>NaN</td>\n",
       "      <td>NaN</td>\n",
       "      <td>46.00</td>\n",
       "      <td>0.00</td>\n",
       "      <td>0.00</td>\n",
       "      <td>0.00</td>\n",
       "      <td>0.00</td>\n",
       "      <td>0.00</td>\n",
       "      <td>0.00</td>\n",
       "      <td>0.00</td>\n",
       "      <td>8.42</td>\n",
       "      <td>NaN</td>\n",
       "      <td>NaN</td>\n",
       "      <td>NaN</td>\n",
       "      <td>2.84</td>\n",
       "      <td>NaN</td>\n",
       "      <td>NaN</td>\n",
       "      <td>NaN</td>\n",
       "      <td>0.00</td>\n",
       "      <td>NaN</td>\n",
       "      <td>NaN</td>\n",
       "      <td>NaN</td>\n",
       "      <td>0.00</td>\n",
       "      <td>0</td>\n",
       "      <td>0</td>\n",
       "      <td>0</td>\n",
       "      <td>0</td>\n",
       "      <td>0</td>\n",
       "      <td>0</td>\n",
       "      <td>0</td>\n",
       "      <td>1</td>\n",
       "      <td>0</td>\n",
       "      <td>0</td>\n",
       "      <td>0</td>\n",
       "      <td>0</td>\n",
       "      <td>0</td>\n",
       "      <td>0</td>\n",
       "      <td>0</td>\n",
       "      <td>0</td>\n",
       "      <td>NaN</td>\n",
       "      <td>NaN</td>\n",
       "      <td>NaN</td>\n",
       "      <td>1.00</td>\n",
       "      <td>1103</td>\n",
       "      <td>0.00</td>\n",
       "      <td>0.00</td>\n",
       "      <td>4.17</td>\n",
       "      <td>0.00</td>\n",
       "    </tr>\n",
       "  </tbody>\n",
       "</table>\n",
       "<p>3 rows × 226 columns</p>\n",
       "</div>"
      ],
      "text/plain": [
       "   mobile_number  circle_id       loc_og_t2o_mou       std_og_t2o_mou  \\\n",
       "0  7000842753     109                       0.00                 0.00   \n",
       "1  7001865778     109                       0.00                 0.00   \n",
       "2  7001625959     109                       0.00                 0.00   \n",
       "\n",
       "        loc_ic_t2o_mou last_date_of_month_6 last_date_of_month_7  \\\n",
       "0                 0.00  6/30/2014            7/31/2014             \n",
       "1                 0.00  6/30/2014            7/31/2014             \n",
       "2                 0.00  6/30/2014            7/31/2014             \n",
       "\n",
       "  last_date_of_month_8 last_date_of_month_9               arpu_6  \\\n",
       "0  8/31/2014            9/30/2014                         197.38   \n",
       "1  8/31/2014            9/30/2014                          34.05   \n",
       "2  8/31/2014            9/30/2014                         167.69   \n",
       "\n",
       "                arpu_7               arpu_8               arpu_9  \\\n",
       "0               214.82               213.80                21.10   \n",
       "1               355.07               268.32                86.28   \n",
       "2               189.06               210.23               290.71   \n",
       "\n",
       "           onnet_mou_6          onnet_mou_7          onnet_mou_8  \\\n",
       "0 NaN                  NaN                                  0.00   \n",
       "1                24.11                78.68                 7.68   \n",
       "2                11.54                55.24                37.26   \n",
       "\n",
       "           onnet_mou_9         offnet_mou_6         offnet_mou_7  \\\n",
       "0 NaN                  NaN                  NaN                    \n",
       "1                18.34                15.74                99.84   \n",
       "2                74.81               143.33               220.59   \n",
       "\n",
       "          offnet_mou_8         offnet_mou_9        roam_ic_mou_6  \\\n",
       "0                 0.00 NaN                  NaN                    \n",
       "1               304.76                53.76                 0.00   \n",
       "2               208.36               118.91                 0.00   \n",
       "\n",
       "         roam_ic_mou_7        roam_ic_mou_8        roam_ic_mou_9  \\\n",
       "0 NaN                                  0.00 NaN                    \n",
       "1                 0.00                 0.00                 0.00   \n",
       "2                 0.00                 0.00                38.49   \n",
       "\n",
       "         roam_og_mou_6        roam_og_mou_7        roam_og_mou_8  \\\n",
       "0 NaN                  NaN                                  0.00   \n",
       "1                 0.00                 0.00                 0.00   \n",
       "2                 0.00                 0.00                 0.00   \n",
       "\n",
       "         roam_og_mou_9     loc_og_t2t_mou_6     loc_og_t2t_mou_7  \\\n",
       "0 NaN                  NaN                  NaN                    \n",
       "1                 0.00                23.88                74.56   \n",
       "2                70.94                 7.19                28.74   \n",
       "\n",
       "      loc_og_t2t_mou_8     loc_og_t2t_mou_9     loc_og_t2m_mou_6  \\\n",
       "0                 0.00 NaN                  NaN                    \n",
       "1                 7.68                18.34                11.51   \n",
       "2                13.58                14.39                29.34   \n",
       "\n",
       "      loc_og_t2m_mou_7     loc_og_t2m_mou_8     loc_og_t2m_mou_9  \\\n",
       "0 NaN                                  0.00 NaN                    \n",
       "1                75.94               291.86                53.76   \n",
       "2                16.86                38.46                28.16   \n",
       "\n",
       "      loc_og_t2f_mou_6     loc_og_t2f_mou_7     loc_og_t2f_mou_8  \\\n",
       "0 NaN                  NaN                                  0.00   \n",
       "1                 0.00                 0.00                 0.00   \n",
       "2                24.11                21.79                15.61   \n",
       "\n",
       "      loc_og_t2f_mou_9     loc_og_t2c_mou_6     loc_og_t2c_mou_7  \\\n",
       "0 NaN                  NaN                  NaN                    \n",
       "1                 0.00                 0.00                 2.91   \n",
       "2                22.24                 0.00               135.54   \n",
       "\n",
       "      loc_og_t2c_mou_8     loc_og_t2c_mou_9         loc_og_mou_6  \\\n",
       "0                 0.00 NaN                  NaN                    \n",
       "1                 0.00                 0.00                35.39   \n",
       "2                45.76                 0.48                60.66   \n",
       "\n",
       "          loc_og_mou_7         loc_og_mou_8         loc_og_mou_9  \\\n",
       "0 NaN                                  0.00 NaN                    \n",
       "1               150.51               299.54                72.11   \n",
       "2                67.41                67.66                64.81   \n",
       "\n",
       "      std_og_t2t_mou_6  ...      count_rech_3g_9   av_rech_amt_data_6  \\\n",
       "0 NaN                   ... NaN                                252.00   \n",
       "1                 0.23  ... NaN                  NaN                    \n",
       "2                 4.34  ...                 0.00 NaN                    \n",
       "\n",
       "    av_rech_amt_data_7   av_rech_amt_data_8   av_rech_amt_data_9  \\\n",
       "0               252.00               252.00 NaN                    \n",
       "1               154.00                50.00 NaN                    \n",
       "2 NaN                  NaN                                 46.00   \n",
       "\n",
       "           vol_2g_mb_6          vol_2g_mb_7          vol_2g_mb_8  \\\n",
       "0                30.13                 1.32                 5.75   \n",
       "1                 0.00               108.07               365.47   \n",
       "2                 0.00                 0.00                 0.00   \n",
       "\n",
       "           vol_2g_mb_9          vol_3g_mb_6          vol_3g_mb_7  \\\n",
       "0                 0.00                83.57               150.76   \n",
       "1                 0.00                 0.00                 0.00   \n",
       "2                 0.00                 0.00                 0.00   \n",
       "\n",
       "           vol_3g_mb_8          vol_3g_mb_9            arpu_3g_6  \\\n",
       "0               109.61                 0.00               212.17   \n",
       "1                 0.00                 0.00 NaN                    \n",
       "2                 0.00                 8.42 NaN                    \n",
       "\n",
       "             arpu_3g_7            arpu_3g_8            arpu_3g_9  \\\n",
       "0               212.17               212.17 NaN                    \n",
       "1                 0.00                 0.00 NaN                    \n",
       "2 NaN                  NaN                                  2.84   \n",
       "\n",
       "             arpu_2g_6            arpu_2g_7            arpu_2g_8  \\\n",
       "0               212.17               212.17               212.17   \n",
       "1 NaN                                 28.61                 7.60   \n",
       "2 NaN                  NaN                  NaN                    \n",
       "\n",
       "             arpu_2g_9     night_pck_user_6     night_pck_user_7  \\\n",
       "0 NaN                                  0.00                 0.00   \n",
       "1 NaN                  NaN                                  0.00   \n",
       "2                 0.00 NaN                  NaN                    \n",
       "\n",
       "      night_pck_user_8     night_pck_user_9  monthly_2g_6  monthly_2g_7  \\\n",
       "0                 0.00 NaN                   0             0              \n",
       "1                 0.00 NaN                   0             1              \n",
       "2 NaN                                  0.00  0             0              \n",
       "\n",
       "   monthly_2g_8  monthly_2g_9  sachet_2g_6  sachet_2g_7  sachet_2g_8  \\\n",
       "0  0             0             0            0            0             \n",
       "1  0             0             0            0            2             \n",
       "2  0             0             0            0            0             \n",
       "\n",
       "   sachet_2g_9  monthly_3g_6  monthly_3g_7  monthly_3g_8  monthly_3g_9  \\\n",
       "0  0            1             1             1             0              \n",
       "1  0            0             0             0             0              \n",
       "2  1            0             0             0             0              \n",
       "\n",
       "   sachet_3g_6  sachet_3g_7  sachet_3g_8  sachet_3g_9            fb_user_6  \\\n",
       "0  0            0            0            0                           1.00   \n",
       "1  0            0            0            0           NaN                    \n",
       "2  0            0            0            0           NaN                    \n",
       "\n",
       "             fb_user_7            fb_user_8            fb_user_9   aon  \\\n",
       "0                 1.00                 1.00 NaN                   968    \n",
       "1                 1.00                 1.00 NaN                   1006   \n",
       "2 NaN                  NaN                                  1.00  1103   \n",
       "\n",
       "            aug_vbc_3g           jul_vbc_3g           jun_vbc_3g  \\\n",
       "0                30.40                 0.00               101.20   \n",
       "1                 0.00                 0.00                 0.00   \n",
       "2                 0.00                 0.00                 4.17   \n",
       "\n",
       "            sep_vbc_3g  \n",
       "0                 3.58  \n",
       "1                 0.00  \n",
       "2                 0.00  \n",
       "\n",
       "[3 rows x 226 columns]"
      ]
     },
     "execution_count": 2,
     "metadata": {},
     "output_type": "execute_result"
    }
   ],
   "source": [
    "telecom_df = pd.read_csv('telecom_churn_data.csv')\n",
    "telecom_df.head(3)"
   ]
  },
  {
   "cell_type": "markdown",
   "id": "1b65d13a",
   "metadata": {},
   "source": [
    "#Derive New features"
   ]
  },
  {
   "cell_type": "code",
   "execution_count": 3,
   "id": "99b073fe",
   "metadata": {},
   "outputs": [
    {
     "name": "stdout",
     "output_type": "stream",
     "text": [
      "Index(['total_rech_amt_6', 'total_rech_amt_7', 'total_rech_amt_8',\n",
      "       'total_rech_amt_9', 'max_rech_amt_6', 'max_rech_amt_7',\n",
      "       'max_rech_amt_8', 'max_rech_amt_9', 'date_of_last_rech_data_6',\n",
      "       'date_of_last_rech_data_7', 'date_of_last_rech_data_8',\n",
      "       'date_of_last_rech_data_9', 'total_rech_data_6', 'total_rech_data_7',\n",
      "       'total_rech_data_8', 'total_rech_data_9', 'max_rech_data_6',\n",
      "       'max_rech_data_7', 'max_rech_data_8', 'max_rech_data_9',\n",
      "       'av_rech_amt_data_6', 'av_rech_amt_data_7', 'av_rech_amt_data_8',\n",
      "       'av_rech_amt_data_9'],\n",
      "      dtype='object')\n"
     ]
    }
   ],
   "source": [
    "amt_recharge_columns =  telecom_df.columns[telecom_df.columns.str.contains('rech_amt|rech_data')]\n",
    "print(amt_recharge_columns)"
   ]
  },
  {
   "cell_type": "code",
   "execution_count": 4,
   "id": "b1454eb3",
   "metadata": {},
   "outputs": [],
   "source": [
    "telecom_df['total_rech_data_6'] = telecom_df['total_rech_data_6'].replace(np.NaN,0.0)\n",
    "telecom_df['total_rech_data_7'] = telecom_df['total_rech_data_7'].replace(np.NaN,0.0)\n",
    "telecom_df['total_rech_data_8'] = telecom_df['total_rech_data_8'].replace(np.NaN,0.0)"
   ]
  },
  {
   "cell_type": "code",
   "execution_count": 5,
   "id": "c86e447d",
   "metadata": {},
   "outputs": [],
   "source": [
    "telecom_df['av_rech_amt_data_6'] = telecom_df['av_rech_amt_data_6'].replace(np.NaN,0.0)\n",
    "telecom_df['av_rech_amt_data_7'] = telecom_df['av_rech_amt_data_7'].replace(np.NaN,0.0)\n",
    "telecom_df['av_rech_amt_data_8'] = telecom_df['av_rech_amt_data_8'].replace(np.NaN,0.0)"
   ]
  },
  {
   "cell_type": "code",
   "execution_count": 6,
   "id": "0f5f5550",
   "metadata": {},
   "outputs": [],
   "source": [
    "telecom_df['total_rech_amt_data_6'] = telecom_df.av_rech_amt_data_6 * telecom_df.total_rech_data_6\n",
    "telecom_df['total_rech_amt_data_7'] = telecom_df.av_rech_amt_data_7 * telecom_df.total_rech_data_7\n",
    "telecom_df['total_rech_amt_data_8'] = telecom_df.av_rech_amt_data_8 * telecom_df.total_rech_data_8"
   ]
  },
  {
   "cell_type": "code",
   "execution_count": 7,
   "id": "0106baf3",
   "metadata": {},
   "outputs": [],
   "source": [
    "telecom_df['total_avg_rech_amnt_6_7_GPhase'] = (telecom_df.total_rech_amt_6 + telecom_df.total_rech_amt_data_6 \\\n",
    "                                               + telecom_df.total_rech_amt_7+ telecom_df.total_rech_amt_data_7)/2"
   ]
  },
  {
   "cell_type": "code",
   "execution_count": 8,
   "id": "5109e7d6",
   "metadata": {},
   "outputs": [
    {
     "name": "stdout",
     "output_type": "stream",
     "text": [
      "70 percentile of 6th and 7th months avg recharge amount: 478.0\n",
      "Dataframe Shape after Filtering High Value Customers: (29953, 230)\n"
     ]
    }
   ],
   "source": [
    "high_value_filter = telecom_df.total_avg_rech_amnt_6_7_GPhase.quantile(0.7)\n",
    "\n",
    "print('70 percentile of 6th and 7th months avg recharge amount: '+str(high_value_filter))\n",
    "\n",
    "telecom_df_high_val_cust = telecom_df[telecom_df.total_avg_rech_amnt_6_7_GPhase > high_value_filter]\n",
    "print('Dataframe Shape after Filtering High Value Customers: ' + str(telecom_df_high_val_cust.shape))"
   ]
  },
  {
   "cell_type": "code",
   "execution_count": 9,
   "id": "e5a86955",
   "metadata": {},
   "outputs": [],
   "source": [
    "high_val_cust_9 = ['total_ic_mou_9', 'total_og_mou_9', 'vol_2g_mb_9','vol_3g_mb_9']"
   ]
  },
  {
   "cell_type": "code",
   "execution_count": 10,
   "id": "7027a2c7",
   "metadata": {},
   "outputs": [],
   "source": [
    "telecom_df_high_val_cust['churn']= 0"
   ]
  },
  {
   "cell_type": "code",
   "execution_count": 11,
   "id": "600011ee",
   "metadata": {},
   "outputs": [],
   "source": [
    "is_churned = (telecom_df_high_val_cust.total_ic_mou_9 == 0) & \\\n",
    "             (telecom_df_high_val_cust.total_og_mou_9 == 0) & \\\n",
    "             (telecom_df_high_val_cust.vol_2g_mb_9 ==0) & \\\n",
    "             (telecom_df_high_val_cust.vol_3g_mb_9 ==0)"
   ]
  },
  {
   "cell_type": "code",
   "execution_count": 12,
   "id": "42fb06a1",
   "metadata": {},
   "outputs": [],
   "source": [
    "telecom_df_high_val_cust.loc[is_churned,'churn']=1"
   ]
  },
  {
   "cell_type": "code",
   "execution_count": 13,
   "id": "91ebcecd",
   "metadata": {},
   "outputs": [
    {
     "data": {
      "text/plain": [
       "8.122725603445398"
      ]
     },
     "execution_count": 13,
     "metadata": {},
     "output_type": "execute_result"
    }
   ],
   "source": [
    "100*telecom_df_high_val_cust.churn.sum()/len(telecom_df_high_val_cust)"
   ]
  },
  {
   "cell_type": "code",
   "execution_count": 14,
   "id": "44054d12",
   "metadata": {},
   "outputs": [],
   "source": [
    "churn_month_columns =  telecom_df_high_val_cust.columns[telecom_df_high_val_cust.columns.str.contains('_9')]"
   ]
  },
  {
   "cell_type": "code",
   "execution_count": 15,
   "id": "bc89df8f",
   "metadata": {},
   "outputs": [],
   "source": [
    "telecom_df_high_val_cust.drop(churn_month_columns,axis=1,inplace=True)"
   ]
  },
  {
   "cell_type": "markdown",
   "id": "80e344a5",
   "metadata": {},
   "source": [
    "#EDA\n"
   ]
  },
  {
   "cell_type": "code",
   "execution_count": 16,
   "id": "23333903",
   "metadata": {},
   "outputs": [],
   "source": [
    "#list_potential_categorical_type(get_meta_data(telecom_df_high_val_cust),telecom_df_high_val_cust)"
   ]
  },
  {
   "cell_type": "code",
   "execution_count": 17,
   "id": "595b3fc9",
   "metadata": {},
   "outputs": [],
   "source": [
    "drop_col_with_unique_col =['circle_id', 'loc_og_t2o_mou', 'std_og_t2o_mou', 'loc_ic_t2o_mou', \n",
    "                          'last_date_of_month_6', 'last_date_of_month_7', 'last_date_of_month_8', \n",
    "                          'std_og_t2c_mou_6', 'std_og_t2c_mou_7', \n",
    "                          'std_og_t2c_mou_8',  'std_ic_t2o_mou_6', \n",
    "                          'std_ic_t2o_mou_7', 'std_ic_t2o_mou_8']"
   ]
  },
  {
   "cell_type": "code",
   "execution_count": 18,
   "id": "4dcf8a18",
   "metadata": {},
   "outputs": [
    {
     "data": {
      "text/plain": [
       "(29953, 177)"
      ]
     },
     "execution_count": 18,
     "metadata": {},
     "output_type": "execute_result"
    }
   ],
   "source": [
    "telecom_df_high_val_cust.shape\n"
   ]
  },
  {
   "cell_type": "code",
   "execution_count": 19,
   "id": "bd3b1cc2",
   "metadata": {},
   "outputs": [
    {
     "data": {
      "text/plain": [
       "(29953, 164)"
      ]
     },
     "execution_count": 19,
     "metadata": {},
     "output_type": "execute_result"
    }
   ],
   "source": [
    "telecom_df_high_val_cust.drop(drop_col_with_unique_col,axis=1,inplace=True)\n",
    "telecom_df_high_val_cust.shape"
   ]
  },
  {
   "cell_type": "code",
   "execution_count": 20,
   "id": "b1eccbcf",
   "metadata": {},
   "outputs": [],
   "source": [
    "def plot_box_chart(attribute):\n",
    "    plt.figure(figsize=(20,16))\n",
    "    df = telecom_df_high_val_cust\n",
    "    plt.subplot(2,3,1)\n",
    "    sns.boxplot(data=df, y=attribute+\"_6\",x=\"churn\",hue=\"churn\",\n",
    "                showfliers=False,palette=(\"plasma\"))\n",
    "    plt.subplot(2,3,2)\n",
    "    sns.boxplot(data=df, y=attribute+\"_7\",x=\"churn\",hue=\"churn\",\n",
    "                showfliers=False,palette=(\"plasma\"))\n",
    "    plt.subplot(2,3,3)\n",
    "    sns.boxplot(data=df, y=attribute+\"_8\",x=\"churn\",hue=\"churn\",\n",
    "                showfliers=False,palette=(\"plasma\"))\n",
    "    plt.show()"
   ]
  },
  {
   "cell_type": "code",
   "execution_count": 21,
   "id": "47ae4be2",
   "metadata": {},
   "outputs": [],
   "source": [
    "def plot_mean_bar_chart(df,columns_list):\n",
    "    df_0 = df[df.churn==0].filter(columns_list)\n",
    "    df_1 = df[df.churn==1].filter(columns_list)\n",
    "\n",
    "    mean_df_0 = pd.DataFrame([df_0.mean()],index={'Non Churn'})\n",
    "    mean_df_1 = pd.DataFrame([df_1.mean()],index={'Churn'})\n",
    "\n",
    "    frames = [mean_df_0, mean_df_1]\n",
    "    mean_bar = pd.concat(frames)\n",
    "\n",
    "    mean_bar.T.plot.bar(figsize=(10,5),rot=0)\n",
    "    plt.show()\n",
    "    \n",
    "    return mean_bar"
   ]
  },
  {
   "cell_type": "markdown",
   "id": "fc435fdf",
   "metadata": {},
   "source": [
    "# Recharge Related Analysis"
   ]
  },
  {
   "cell_type": "code",
   "execution_count": 22,
   "id": "0873dc66",
   "metadata": {},
   "outputs": [
    {
     "data": {
      "text/plain": [
       "['total_rech_amt_6',\n",
       " 'total_rech_amt_7',\n",
       " 'total_rech_amt_8',\n",
       " 'max_rech_amt_6',\n",
       " 'max_rech_amt_7',\n",
       " 'max_rech_amt_8',\n",
       " 'av_rech_amt_data_6',\n",
       " 'av_rech_amt_data_7',\n",
       " 'av_rech_amt_data_8',\n",
       " 'total_rech_amt_data_6',\n",
       " 'total_rech_amt_data_7',\n",
       " 'total_rech_amt_data_8']"
      ]
     },
     "execution_count": 22,
     "metadata": {},
     "output_type": "execute_result"
    }
   ],
   "source": [
    "recharge_amnt_columns =  telecom_df_high_val_cust.columns[telecom_df_high_val_cust.columns.str.contains('rech_amt')]\n",
    "recharge_amnt_columns.tolist()"
   ]
  },
  {
   "cell_type": "code",
   "execution_count": 23,
   "id": "240eb24e",
   "metadata": {},
   "outputs": [
    {
     "data": {
      "image/png": "[encoded data removed]",
      "text/plain": [
       "<Figure size 1440x1152 with 3 Axes>"
      ]
     },
     "metadata": {},
     "output_type": "display_data"
    }
   ],
   "source": [
    "# Ploting for total recharge amount:\n",
    "plot_box_chart('total_rech_amt')"
   ]
  },
  {
   "cell_type": "code",
   "execution_count": 24,
   "id": "fb962866",
   "metadata": {},
   "outputs": [
    {
     "data": {
      "image/png": "[encoded data removed]",
      "text/plain": [
       "<Figure size 1440x1152 with 3 Axes>"
      ]
     },
     "metadata": {},
     "output_type": "display_data"
    }
   ],
   "source": [
    "# Ploting for total recharge amount for data:\n",
    "plot_box_chart('total_rech_amt_data')"
   ]
  },
  {
   "cell_type": "code",
   "execution_count": 25,
   "id": "87118ed0",
   "metadata": {},
   "outputs": [
    {
     "data": {
      "image/png": "[encoded data removed]",
      "text/plain": [
       "<Figure size 1440x1152 with 3 Axes>"
      ]
     },
     "metadata": {},
     "output_type": "display_data"
    }
   ],
   "source": [
    "# Ploting for maximum recharge amount for data:\n",
    "plot_box_chart('max_rech_amt')\n"
   ]
  },
  {
   "cell_type": "code",
   "execution_count": 26,
   "id": "05bc972a",
   "metadata": {},
   "outputs": [
    {
     "data": {
      "image/png": "[encoded data removed]",
      "text/plain": [
       "<Figure size 1440x1152 with 3 Axes>"
      ]
     },
     "metadata": {},
     "output_type": "display_data"
    }
   ],
   "source": [
    "# Ploting for Total recharge for Number:\n",
    "plot_box_chart('total_rech_num')\n"
   ]
  },
  {
   "cell_type": "markdown",
   "id": "d2cbd681",
   "metadata": {},
   "source": [
    "# 2G and 3G usage related analysis"
   ]
  },
  {
   "cell_type": "code",
   "execution_count": 27,
   "id": "678a1657",
   "metadata": {},
   "outputs": [
    {
     "data": {
      "image/png": "[encoded data removed]",
      "text/plain": [
       "<Figure size 1440x1152 with 3 Axes>"
      ]
     },
     "metadata": {},
     "output_type": "display_data"
    }
   ],
   "source": [
    "# Ploting for volume of 2G and 3G usage columns:\n",
    "plot_box_chart('vol_2g_mb')"
   ]
  },
  {
   "cell_type": "code",
   "execution_count": 28,
   "id": "7921b050",
   "metadata": {},
   "outputs": [
    {
     "data": {
      "image/png": "[encoded data removed]",
      "text/plain": [
       "<Figure size 1440x1152 with 3 Axes>"
      ]
     },
     "metadata": {},
     "output_type": "display_data"
    }
   ],
   "source": [
    "plot_box_chart('vol_3g_mb')"
   ]
  },
  {
   "cell_type": "markdown",
   "id": "70755ff3",
   "metadata": {},
   "source": [
    "2G/3G usage is higher for non-churned customers indicating that churned customers might be from areas where 2G/3G service is not properly available."
   ]
  },
  {
   "cell_type": "markdown",
   "id": "84a883dd",
   "metadata": {},
   "source": [
    "# Average Revenue Per User"
   ]
  },
  {
   "cell_type": "code",
   "execution_count": 29,
   "id": "7a749b7d",
   "metadata": {},
   "outputs": [
    {
     "data": {
      "image/png": "[encoded data removed]",
      "text/plain": [
       "<Figure size 720x360 with 1 Axes>"
      ]
     },
     "metadata": {},
     "output_type": "display_data"
    },
    {
     "data": {
      "text/html": [
       "<div>\n",
       "<style scoped>\n",
       "    .dataframe tbody tr th:only-of-type {\n",
       "        vertical-align: middle;\n",
       "    }\n",
       "\n",
       "    .dataframe tbody tr th {\n",
       "        vertical-align: top;\n",
       "    }\n",
       "\n",
       "    .dataframe thead th {\n",
       "        text-align: right;\n",
       "    }\n",
       "</style>\n",
       "<table border=\"1\" class=\"dataframe\">\n",
       "  <thead>\n",
       "    <tr style=\"text-align: right;\">\n",
       "      <th></th>\n",
       "      <th>arpu_6</th>\n",
       "      <th>arpu_7</th>\n",
       "      <th>arpu_8</th>\n",
       "      <th>arpu_3g_6</th>\n",
       "      <th>arpu_3g_7</th>\n",
       "      <th>arpu_3g_8</th>\n",
       "      <th>arpu_2g_6</th>\n",
       "      <th>arpu_2g_7</th>\n",
       "      <th>arpu_2g_8</th>\n",
       "    </tr>\n",
       "  </thead>\n",
       "  <tbody>\n",
       "    <tr>\n",
       "      <th>Non Churn</th>\n",
       "      <td>549.55</td>\n",
       "      <td>562.93</td>\n",
       "      <td>532.87</td>\n",
       "      <td>118.50</td>\n",
       "      <td>120.44</td>\n",
       "      <td>118.76</td>\n",
       "      <td>112.00</td>\n",
       "      <td>113.29</td>\n",
       "      <td>110.35</td>\n",
       "    </tr>\n",
       "    <tr>\n",
       "      <th>Churn</th>\n",
       "      <td>663.71</td>\n",
       "      <td>541.15</td>\n",
       "      <td>237.66</td>\n",
       "      <td>141.47</td>\n",
       "      <td>127.14</td>\n",
       "      <td>96.09</td>\n",
       "      <td>136.68</td>\n",
       "      <td>124.36</td>\n",
       "      <td>94.04</td>\n",
       "    </tr>\n",
       "  </tbody>\n",
       "</table>\n",
       "</div>"
      ],
      "text/plain": [
       "                        arpu_6               arpu_7               arpu_8  \\\n",
       "Non Churn               549.55               562.93               532.87   \n",
       "Churn                   663.71               541.15               237.66   \n",
       "\n",
       "                     arpu_3g_6            arpu_3g_7            arpu_3g_8  \\\n",
       "Non Churn               118.50               120.44               118.76   \n",
       "Churn                   141.47               127.14                96.09   \n",
       "\n",
       "                     arpu_2g_6            arpu_2g_7            arpu_2g_8  \n",
       "Non Churn               112.00               113.29               110.35  \n",
       "Churn                   136.68               124.36                94.04  "
      ]
     },
     "execution_count": 29,
     "metadata": {},
     "output_type": "execute_result"
    }
   ],
   "source": [
    "arpu_cols = telecom_df_high_val_cust.columns[telecom_df_high_val_cust.columns.str.contains('arpu_')]\n",
    "\n",
    "plot_mean_bar_chart(telecom_df_high_val_cust, arpu_cols)"
   ]
  },
  {
   "cell_type": "markdown",
   "id": "5d826902",
   "metadata": {},
   "source": [
    "# Tenure Analysis for Customers"
   ]
  },
  {
   "cell_type": "code",
   "execution_count": 30,
   "id": "6774f5b2",
   "metadata": {},
   "outputs": [
    {
     "data": {
      "image/png": "[encoded data removed]",
      "text/plain": [
       "<Figure size 1008x576 with 1 Axes>"
      ]
     },
     "metadata": {},
     "output_type": "display_data"
    }
   ],
   "source": [
    "tenure_data = telecom_df_high_val_cust.copy()\n",
    "plt.figure(figsize=(14,8))\n",
    "# aon --> Age on network - number of days the customer is using the operator T network\n",
    "tenure_data['tenure'] = tenure_data['aon']/30\n",
    "tenure_data['tenure'].head()\n",
    "ax = sns.distplot(tenure_data['tenure'], hist=True, kde=False, \n",
    "             bins=int(180/5), color = 'darkgreen', \n",
    "             hist_kws={'edgecolor':'red'},\n",
    "             kde_kws={'linewidth': 4})\n",
    "ax.set_ylabel('Number of Customers')\n",
    "ax.set_xlabel('Tenure in Months')\n",
    "ax.set_title('Customers Vs Tenure')\n",
    "plt.show()"
   ]
  },
  {
   "cell_type": "code",
   "execution_count": 31,
   "id": "9bc1eeaa",
   "metadata": {},
   "outputs": [
    {
     "data": {
      "image/png": "[encoded data removed]",
      "text/plain": [
       "<Figure size 1008x576 with 1 Axes>"
      ]
     },
     "metadata": {},
     "output_type": "display_data"
    }
   ],
   "source": [
    "tn_range = [0, 6, 12, 24, 60, 61]\n",
    "tn_label = [ '0-6 Months', '6-12 Months', '1-2 Yrs', '2-5 Yrs', '5 Yrs and above']\n",
    "tenure_data['tenure_range'] = pd.cut(tenure_data['tenure'], tn_range, labels=tn_label)\n",
    "\n",
    "plt.figure(figsize=(14,8))\n",
    "sns.countplot(x = 'tenure_range', hue = 'churn',data = tenure_data,palette=(\"plasma\"))\n",
    "plt.show()"
   ]
  },
  {
   "cell_type": "code",
   "execution_count": null,
   "id": "6313b467",
   "metadata": {},
   "outputs": [],
   "source": []
  }
 ],
 "metadata": {
  "kernelspec": {
   "display_name": "Python 3",
   "language": "python",
   "name": "python3"
  },
  "language_info": {
   "codemirror_mode": {
    "name": "ipython",
    "version": 3
   },
   "file_extension": ".py",
   "mimetype": "text/x-python",
   "name": "python",
   "nbconvert_exporter": "python",
   "pygments_lexer": "ipython3",
   "version": "3.8.8"
  }
 },
 "nbformat": 4,
 "nbformat_minor": 5
}
